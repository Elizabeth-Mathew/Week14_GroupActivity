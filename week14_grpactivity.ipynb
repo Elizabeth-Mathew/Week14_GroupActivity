{
 "cells": [
  {
   "cell_type": "markdown",
   "id": "d82e32a2",
   "metadata": {},
   "source": [
    "HELP International is an international humanitarian NGO that is committed to fighting poverty and providing the people of backward countries with basic amenities and relief during the time of disasters and natural calamities. After the recent project that included a lot of awareness drives and funding programmes, they have been able to raise around $ 10 million. The significant issues that come while making this decision are mostly related to choosing the countries that are in the direst need of aid.\n",
    "\n",
    "How will you help this NGO to make a correct decision based on socio-economic and health factors?\n"
   ]
  },
  {
   "cell_type": "code",
   "execution_count": 1,
   "id": "618b9150",
   "metadata": {},
   "outputs": [],
   "source": [
    "import numpy as np\n",
    "import pandas as pd\n",
    "import seaborn as sns\n",
    "import matplotlib.pyplot as plt\n",
    "\n",
    "import warnings\n",
    "warnings.filterwarnings('ignore')"
   ]
  },
  {
   "cell_type": "code",
   "execution_count": 2,
   "id": "481266be",
   "metadata": {},
   "outputs": [
    {
     "data": {
      "text/html": [
       "<div>\n",
       "<style scoped>\n",
       "    .dataframe tbody tr th:only-of-type {\n",
       "        vertical-align: middle;\n",
       "    }\n",
       "\n",
       "    .dataframe tbody tr th {\n",
       "        vertical-align: top;\n",
       "    }\n",
       "\n",
       "    .dataframe thead th {\n",
       "        text-align: right;\n",
       "    }\n",
       "</style>\n",
       "<table border=\"1\" class=\"dataframe\">\n",
       "  <thead>\n",
       "    <tr style=\"text-align: right;\">\n",
       "      <th></th>\n",
       "      <th>country</th>\n",
       "      <th>child_mort</th>\n",
       "      <th>exports</th>\n",
       "      <th>health</th>\n",
       "      <th>imports</th>\n",
       "      <th>income</th>\n",
       "      <th>inflation</th>\n",
       "      <th>life_expec</th>\n",
       "      <th>total_fer</th>\n",
       "      <th>gdpp</th>\n",
       "    </tr>\n",
       "  </thead>\n",
       "  <tbody>\n",
       "    <tr>\n",
       "      <th>0</th>\n",
       "      <td>Afghanistan</td>\n",
       "      <td>90.2</td>\n",
       "      <td>10.0</td>\n",
       "      <td>7.58</td>\n",
       "      <td>44.9</td>\n",
       "      <td>1610</td>\n",
       "      <td>9.44</td>\n",
       "      <td>56.2</td>\n",
       "      <td>5.82</td>\n",
       "      <td>553</td>\n",
       "    </tr>\n",
       "    <tr>\n",
       "      <th>1</th>\n",
       "      <td>Albania</td>\n",
       "      <td>16.6</td>\n",
       "      <td>28.0</td>\n",
       "      <td>6.55</td>\n",
       "      <td>48.6</td>\n",
       "      <td>9930</td>\n",
       "      <td>4.49</td>\n",
       "      <td>76.3</td>\n",
       "      <td>1.65</td>\n",
       "      <td>4090</td>\n",
       "    </tr>\n",
       "    <tr>\n",
       "      <th>2</th>\n",
       "      <td>Algeria</td>\n",
       "      <td>27.3</td>\n",
       "      <td>38.4</td>\n",
       "      <td>4.17</td>\n",
       "      <td>31.4</td>\n",
       "      <td>12900</td>\n",
       "      <td>16.10</td>\n",
       "      <td>76.5</td>\n",
       "      <td>2.89</td>\n",
       "      <td>4460</td>\n",
       "    </tr>\n",
       "    <tr>\n",
       "      <th>3</th>\n",
       "      <td>Angola</td>\n",
       "      <td>119.0</td>\n",
       "      <td>62.3</td>\n",
       "      <td>2.85</td>\n",
       "      <td>42.9</td>\n",
       "      <td>5900</td>\n",
       "      <td>22.40</td>\n",
       "      <td>60.1</td>\n",
       "      <td>6.16</td>\n",
       "      <td>3530</td>\n",
       "    </tr>\n",
       "    <tr>\n",
       "      <th>4</th>\n",
       "      <td>Antigua and Barbuda</td>\n",
       "      <td>10.3</td>\n",
       "      <td>45.5</td>\n",
       "      <td>6.03</td>\n",
       "      <td>58.9</td>\n",
       "      <td>19100</td>\n",
       "      <td>1.44</td>\n",
       "      <td>76.8</td>\n",
       "      <td>2.13</td>\n",
       "      <td>12200</td>\n",
       "    </tr>\n",
       "  </tbody>\n",
       "</table>\n",
       "</div>"
      ],
      "text/plain": [
       "               country  child_mort  exports  health  imports  income  \\\n",
       "0          Afghanistan        90.2     10.0    7.58     44.9    1610   \n",
       "1              Albania        16.6     28.0    6.55     48.6    9930   \n",
       "2              Algeria        27.3     38.4    4.17     31.4   12900   \n",
       "3               Angola       119.0     62.3    2.85     42.9    5900   \n",
       "4  Antigua and Barbuda        10.3     45.5    6.03     58.9   19100   \n",
       "\n",
       "   inflation  life_expec  total_fer   gdpp  \n",
       "0       9.44        56.2       5.82    553  \n",
       "1       4.49        76.3       1.65   4090  \n",
       "2      16.10        76.5       2.89   4460  \n",
       "3      22.40        60.1       6.16   3530  \n",
       "4       1.44        76.8       2.13  12200  "
      ]
     },
     "execution_count": 2,
     "metadata": {},
     "output_type": "execute_result"
    }
   ],
   "source": [
    "data = pd.read_csv('Country-data.csv')\n",
    "data.head()"
   ]
  },
  {
   "cell_type": "code",
   "execution_count": 3,
   "id": "49399fe5",
   "metadata": {},
   "outputs": [
    {
     "data": {
      "text/plain": [
       "(167, 10)"
      ]
     },
     "execution_count": 3,
     "metadata": {},
     "output_type": "execute_result"
    }
   ],
   "source": [
    "data.shape"
   ]
  },
  {
   "cell_type": "code",
   "execution_count": 4,
   "id": "6a163db1",
   "metadata": {},
   "outputs": [
    {
     "data": {
      "text/html": [
       "<div>\n",
       "<style scoped>\n",
       "    .dataframe tbody tr th:only-of-type {\n",
       "        vertical-align: middle;\n",
       "    }\n",
       "\n",
       "    .dataframe tbody tr th {\n",
       "        vertical-align: top;\n",
       "    }\n",
       "\n",
       "    .dataframe thead th {\n",
       "        text-align: right;\n",
       "    }\n",
       "</style>\n",
       "<table border=\"1\" class=\"dataframe\">\n",
       "  <thead>\n",
       "    <tr style=\"text-align: right;\">\n",
       "      <th></th>\n",
       "      <th>child_mort</th>\n",
       "      <th>exports</th>\n",
       "      <th>health</th>\n",
       "      <th>imports</th>\n",
       "      <th>income</th>\n",
       "      <th>inflation</th>\n",
       "      <th>life_expec</th>\n",
       "      <th>total_fer</th>\n",
       "      <th>gdpp</th>\n",
       "    </tr>\n",
       "  </thead>\n",
       "  <tbody>\n",
       "    <tr>\n",
       "      <th>count</th>\n",
       "      <td>167.000000</td>\n",
       "      <td>167.000000</td>\n",
       "      <td>167.000000</td>\n",
       "      <td>167.000000</td>\n",
       "      <td>167.000000</td>\n",
       "      <td>167.000000</td>\n",
       "      <td>167.000000</td>\n",
       "      <td>167.000000</td>\n",
       "      <td>167.000000</td>\n",
       "    </tr>\n",
       "    <tr>\n",
       "      <th>mean</th>\n",
       "      <td>38.270060</td>\n",
       "      <td>41.108976</td>\n",
       "      <td>6.815689</td>\n",
       "      <td>46.890215</td>\n",
       "      <td>17144.688623</td>\n",
       "      <td>7.781832</td>\n",
       "      <td>70.555689</td>\n",
       "      <td>2.947964</td>\n",
       "      <td>12964.155689</td>\n",
       "    </tr>\n",
       "    <tr>\n",
       "      <th>std</th>\n",
       "      <td>40.328931</td>\n",
       "      <td>27.412010</td>\n",
       "      <td>2.746837</td>\n",
       "      <td>24.209589</td>\n",
       "      <td>19278.067698</td>\n",
       "      <td>10.570704</td>\n",
       "      <td>8.893172</td>\n",
       "      <td>1.513848</td>\n",
       "      <td>18328.704809</td>\n",
       "    </tr>\n",
       "    <tr>\n",
       "      <th>min</th>\n",
       "      <td>2.600000</td>\n",
       "      <td>0.109000</td>\n",
       "      <td>1.810000</td>\n",
       "      <td>0.065900</td>\n",
       "      <td>609.000000</td>\n",
       "      <td>-4.210000</td>\n",
       "      <td>32.100000</td>\n",
       "      <td>1.150000</td>\n",
       "      <td>231.000000</td>\n",
       "    </tr>\n",
       "    <tr>\n",
       "      <th>25%</th>\n",
       "      <td>8.250000</td>\n",
       "      <td>23.800000</td>\n",
       "      <td>4.920000</td>\n",
       "      <td>30.200000</td>\n",
       "      <td>3355.000000</td>\n",
       "      <td>1.810000</td>\n",
       "      <td>65.300000</td>\n",
       "      <td>1.795000</td>\n",
       "      <td>1330.000000</td>\n",
       "    </tr>\n",
       "    <tr>\n",
       "      <th>50%</th>\n",
       "      <td>19.300000</td>\n",
       "      <td>35.000000</td>\n",
       "      <td>6.320000</td>\n",
       "      <td>43.300000</td>\n",
       "      <td>9960.000000</td>\n",
       "      <td>5.390000</td>\n",
       "      <td>73.100000</td>\n",
       "      <td>2.410000</td>\n",
       "      <td>4660.000000</td>\n",
       "    </tr>\n",
       "    <tr>\n",
       "      <th>75%</th>\n",
       "      <td>62.100000</td>\n",
       "      <td>51.350000</td>\n",
       "      <td>8.600000</td>\n",
       "      <td>58.750000</td>\n",
       "      <td>22800.000000</td>\n",
       "      <td>10.750000</td>\n",
       "      <td>76.800000</td>\n",
       "      <td>3.880000</td>\n",
       "      <td>14050.000000</td>\n",
       "    </tr>\n",
       "    <tr>\n",
       "      <th>max</th>\n",
       "      <td>208.000000</td>\n",
       "      <td>200.000000</td>\n",
       "      <td>17.900000</td>\n",
       "      <td>174.000000</td>\n",
       "      <td>125000.000000</td>\n",
       "      <td>104.000000</td>\n",
       "      <td>82.800000</td>\n",
       "      <td>7.490000</td>\n",
       "      <td>105000.000000</td>\n",
       "    </tr>\n",
       "  </tbody>\n",
       "</table>\n",
       "</div>"
      ],
      "text/plain": [
       "       child_mort     exports      health     imports         income  \\\n",
       "count  167.000000  167.000000  167.000000  167.000000     167.000000   \n",
       "mean    38.270060   41.108976    6.815689   46.890215   17144.688623   \n",
       "std     40.328931   27.412010    2.746837   24.209589   19278.067698   \n",
       "min      2.600000    0.109000    1.810000    0.065900     609.000000   \n",
       "25%      8.250000   23.800000    4.920000   30.200000    3355.000000   \n",
       "50%     19.300000   35.000000    6.320000   43.300000    9960.000000   \n",
       "75%     62.100000   51.350000    8.600000   58.750000   22800.000000   \n",
       "max    208.000000  200.000000   17.900000  174.000000  125000.000000   \n",
       "\n",
       "        inflation  life_expec   total_fer           gdpp  \n",
       "count  167.000000  167.000000  167.000000     167.000000  \n",
       "mean     7.781832   70.555689    2.947964   12964.155689  \n",
       "std     10.570704    8.893172    1.513848   18328.704809  \n",
       "min     -4.210000   32.100000    1.150000     231.000000  \n",
       "25%      1.810000   65.300000    1.795000    1330.000000  \n",
       "50%      5.390000   73.100000    2.410000    4660.000000  \n",
       "75%     10.750000   76.800000    3.880000   14050.000000  \n",
       "max    104.000000   82.800000    7.490000  105000.000000  "
      ]
     },
     "execution_count": 4,
     "metadata": {},
     "output_type": "execute_result"
    }
   ],
   "source": [
    "data.describe()"
   ]
  },
  {
   "cell_type": "code",
   "execution_count": 5,
   "id": "9dc9232c",
   "metadata": {},
   "outputs": [
    {
     "name": "stdout",
     "output_type": "stream",
     "text": [
      "<class 'pandas.core.frame.DataFrame'>\n",
      "RangeIndex: 167 entries, 0 to 166\n",
      "Data columns (total 10 columns):\n",
      " #   Column      Non-Null Count  Dtype  \n",
      "---  ------      --------------  -----  \n",
      " 0   country     167 non-null    object \n",
      " 1   child_mort  167 non-null    float64\n",
      " 2   exports     167 non-null    float64\n",
      " 3   health      167 non-null    float64\n",
      " 4   imports     167 non-null    float64\n",
      " 5   income      167 non-null    int64  \n",
      " 6   inflation   167 non-null    float64\n",
      " 7   life_expec  167 non-null    float64\n",
      " 8   total_fer   167 non-null    float64\n",
      " 9   gdpp        167 non-null    int64  \n",
      "dtypes: float64(7), int64(2), object(1)\n",
      "memory usage: 13.2+ KB\n"
     ]
    }
   ],
   "source": [
    "data.info()"
   ]
  },
  {
   "cell_type": "code",
   "execution_count": 6,
   "id": "fb49c443",
   "metadata": {},
   "outputs": [
    {
     "data": {
      "text/plain": [
       "country       0\n",
       "child_mort    0\n",
       "exports       0\n",
       "health        0\n",
       "imports       0\n",
       "income        0\n",
       "inflation     0\n",
       "life_expec    0\n",
       "total_fer     0\n",
       "gdpp          0\n",
       "dtype: int64"
      ]
     },
     "execution_count": 6,
     "metadata": {},
     "output_type": "execute_result"
    }
   ],
   "source": [
    "data.isnull().sum()"
   ]
  },
  {
   "cell_type": "code",
   "execution_count": 7,
   "id": "4436390a",
   "metadata": {},
   "outputs": [
    {
     "data": {
      "text/plain": [
       "country        object\n",
       "child_mort    float64\n",
       "exports       float64\n",
       "health        float64\n",
       "imports       float64\n",
       "income          int64\n",
       "inflation     float64\n",
       "life_expec    float64\n",
       "total_fer     float64\n",
       "gdpp            int64\n",
       "dtype: object"
      ]
     },
     "execution_count": 7,
     "metadata": {},
     "output_type": "execute_result"
    }
   ],
   "source": [
    "data.dtypes"
   ]
  },
  {
   "cell_type": "markdown",
   "id": "475c3e29",
   "metadata": {},
   "source": [
    "## Preprocessing"
   ]
  },
  {
   "cell_type": "markdown",
   "id": "289d7432",
   "metadata": {},
   "source": [
    "### Outliers"
   ]
  },
  {
   "cell_type": "code",
   "execution_count": 8,
   "id": "241a5d4e",
   "metadata": {},
   "outputs": [
    {
     "data": {
      "image/png": "[encoded data removed]",
      "text/plain": [
       "<Figure size 1080x540 with 9 Axes>"
      ]
     },
     "metadata": {
      "needs_background": "light"
     },
     "output_type": "display_data"
    }
   ],
   "source": [
    "fig, axs = plt.subplots(3,3, figsize = (15,7.5))\n",
    "plt1 = sns.boxplot(data['child_mort'], ax = axs[0,0])\n",
    "plt2 = sns.boxplot(data['health'], ax = axs[0,1])\n",
    "plt3 = sns.boxplot(data['life_expec'], ax = axs[0,2])\n",
    "plt4 = sns.boxplot(data['total_fer'], ax = axs[1,0])\n",
    "plt5 = sns.boxplot(data['income'], ax = axs[1,1])\n",
    "plt6 = sns.boxplot(data['inflation'], ax = axs[1,2])\n",
    "plt7 = sns.boxplot(data['gdpp'], ax = axs[2,0])\n",
    "plt8 = sns.boxplot(data['imports'], ax = axs[2,1])\n",
    "plt9 = sns.boxplot(data['exports'], ax = axs[2,2])\n",
    "\n",
    "\n",
    "plt.tight_layout()"
   ]
  },
  {
   "cell_type": "markdown",
   "id": "27c2bdfb",
   "metadata": {},
   "source": [
    "### From the above plot it is evident that child_mort,health, life_expec,total_fer,income, inflation, gdpp, imports and exports should undergo outlier treatment."
   ]
  },
  {
   "cell_type": "markdown",
   "id": "0991f462",
   "metadata": {},
   "source": [
    "### Removing outliers"
   ]
  },
  {
   "cell_type": "code",
   "execution_count": 9,
   "id": "5524eb02",
   "metadata": {},
   "outputs": [],
   "source": [
    "# define a function called 'outliers' which returns a list of outliers\n",
    "def outliers(df,ft):\n",
    "    Q1=df[ft].quantile(0.25)\n",
    "    Q3=df[ft].quantile(0.75)\n",
    "    IQR=Q3-Q1\n",
    "    lower=Q1-1.5*IQR\n",
    "    upper=Q3+1.5*IQR\n",
    "#create list to store indexes of outliers\n",
    "    ls= df.index[(df[ft]<lower) | (df[ft]>upper)]\n",
    "    return ls"
   ]
  },
  {
   "cell_type": "code",
   "execution_count": 10,
   "id": "b8bd6006",
   "metadata": {},
   "outputs": [
    {
     "data": {
      "text/plain": [
       "[31,\n",
       " 32,\n",
       " 66,\n",
       " 132,\n",
       " 101,\n",
       " 159,\n",
       " 31,\n",
       " 66,\n",
       " 87,\n",
       " 112,\n",
       " 23,\n",
       " 82,\n",
       " 91,\n",
       " 114,\n",
       " 123,\n",
       " 133,\n",
       " 145,\n",
       " 157,\n",
       " 49,\n",
       " 103,\n",
       " 113,\n",
       " 149,\n",
       " 163,\n",
       " 7,\n",
       " 8,\n",
       " 15,\n",
       " 23,\n",
       " 29,\n",
       " 44,\n",
       " 53,\n",
       " 54,\n",
       " 58,\n",
       " 68,\n",
       " 73,\n",
       " 75,\n",
       " 77,\n",
       " 82,\n",
       " 91,\n",
       " 110,\n",
       " 111,\n",
       " 114,\n",
       " 123,\n",
       " 133,\n",
       " 144,\n",
       " 145,\n",
       " 157,\n",
       " 158,\n",
       " 159,\n",
       " 91,\n",
       " 98,\n",
       " 131,\n",
       " 133,\n",
       " 73,\n",
       " 91,\n",
       " 98,\n",
       " 131,\n",
       " 133]"
      ]
     },
     "execution_count": 10,
     "metadata": {},
     "output_type": "execute_result"
    }
   ],
   "source": [
    "#create an empty list to store indexes from multiple columns\n",
    "index_list=[]\n",
    "for feature in ['child_mort', 'health','life_expec','total_fer','income','inflation','gdpp','imports','exports']:\n",
    "    index_list.extend(outliers(data,feature))\n",
    "index_list"
   ]
  },
  {
   "cell_type": "code",
   "execution_count": 11,
   "id": "4006f3fd",
   "metadata": {},
   "outputs": [],
   "source": [
    "#define a function called 'remove' which returns a cleaned data without outliers\n",
    "def remove(df,ls):\n",
    "    ls=sorted(set(ls)) #to sort and remove multiple copies(to get unique)\n",
    "    df=df.drop(ls)\n",
    "    return df"
   ]
  },
  {
   "cell_type": "code",
   "execution_count": 12,
   "id": "21714179",
   "metadata": {},
   "outputs": [
    {
     "data": {
      "text/plain": [
       "(167, 10)"
      ]
     },
     "execution_count": 12,
     "metadata": {},
     "output_type": "execute_result"
    }
   ],
   "source": [
    "data.shape"
   ]
  },
  {
   "cell_type": "code",
   "execution_count": 13,
   "id": "5f1b59c4",
   "metadata": {},
   "outputs": [],
   "source": [
    "data=remove(data,index_list)"
   ]
  },
  {
   "cell_type": "code",
   "execution_count": 14,
   "id": "9fe60531",
   "metadata": {},
   "outputs": [
    {
     "data": {
      "text/plain": [
       "(128, 10)"
      ]
     },
     "execution_count": 14,
     "metadata": {},
     "output_type": "execute_result"
    }
   ],
   "source": [
    "data.shape"
   ]
  },
  {
   "cell_type": "code",
   "execution_count": 15,
   "id": "20c9d1c4",
   "metadata": {},
   "outputs": [
    {
     "data": {
      "image/png": "[encoded data removed]",
      "text/plain": [
       "<Figure size 1080x540 with 9 Axes>"
      ]
     },
     "metadata": {
      "needs_background": "light"
     },
     "output_type": "display_data"
    }
   ],
   "source": [
    "fig, axs = plt.subplots(3,3, figsize = (15,7.5))\n",
    "plt1 = sns.boxplot(data['child_mort'], ax = axs[0,0])\n",
    "plt2 = sns.boxplot(data['health'], ax = axs[0,1])\n",
    "plt3 = sns.boxplot(data['life_expec'], ax = axs[0,2])\n",
    "plt4 = sns.boxplot(data['total_fer'], ax = axs[1,0])\n",
    "plt5 = sns.boxplot(data['income'], ax = axs[1,1])\n",
    "plt6 = sns.boxplot(data['inflation'], ax = axs[1,2])\n",
    "plt7 = sns.boxplot(data['gdpp'], ax = axs[2,0])\n",
    "plt8 = sns.boxplot(data['imports'], ax = axs[2,1])\n",
    "plt9 = sns.boxplot(data['exports'], ax = axs[2,2])\n",
    "\n",
    "\n",
    "plt.tight_layout()"
   ]
  },
  {
   "cell_type": "markdown",
   "id": "b3ff2356",
   "metadata": {},
   "source": [
    "### Plotting heatmap to understand the better correlation between variables"
   ]
  },
  {
   "cell_type": "code",
   "execution_count": 16,
   "id": "7e7b529e",
   "metadata": {},
   "outputs": [
    {
     "data": {
      "text/plain": [
       "<AxesSubplot:>"
      ]
     },
     "execution_count": 16,
     "metadata": {},
     "output_type": "execute_result"
    },
    {
     "data": {
      "image/png": "[encoded data removed]",
      "text/plain": [
       "<Figure size 576x576 with 2 Axes>"
      ]
     },
     "metadata": {
      "needs_background": "light"
     },
     "output_type": "display_data"
    }
   ],
   "source": [
    "plt.figure(figsize = (8,8))  \n",
    "sns.heatmap(data.corr(),annot = True,cmap=\"YlGnBu\")"
   ]
  },
  {
   "cell_type": "markdown",
   "id": "b5149ec2",
   "metadata": {},
   "source": [
    "#### We can see that  some variables are highly positively and negatively correlation  such as between child_mort and total_fer, between income and gdpp, between child_mort and life_expec."
   ]
  },
  {
   "cell_type": "code",
   "execution_count": 17,
   "id": "1ea689c9",
   "metadata": {},
   "outputs": [
    {
     "data": {
      "text/plain": [
       "Index(['country', 'child_mort', 'exports', 'health', 'imports', 'income',\n",
       "       'inflation', 'life_expec', 'total_fer', 'gdpp'],\n",
       "      dtype='object')"
      ]
     },
     "execution_count": 17,
     "metadata": {},
     "output_type": "execute_result"
    }
   ],
   "source": [
    "data.columns"
   ]
  },
  {
   "cell_type": "markdown",
   "id": "8a39ecfd",
   "metadata": {},
   "source": [
    "## Standard scaling"
   ]
  },
  {
   "cell_type": "code",
   "execution_count": 18,
   "id": "a705b63c",
   "metadata": {},
   "outputs": [],
   "source": [
    "data_new = data.drop(\"country\", axis=1)\n",
    "from sklearn.preprocessing import StandardScaler\n",
    "standard_scaler = StandardScaler()\n",
    "data_new = standard_scaler.fit_transform(data_new)"
   ]
  },
  {
   "cell_type": "code",
   "execution_count": 19,
   "id": "02a08871",
   "metadata": {},
   "outputs": [
    {
     "data": {
      "text/html": [
       "<div>\n",
       "<style scoped>\n",
       "    .dataframe tbody tr th:only-of-type {\n",
       "        vertical-align: middle;\n",
       "    }\n",
       "\n",
       "    .dataframe tbody tr th {\n",
       "        vertical-align: top;\n",
       "    }\n",
       "\n",
       "    .dataframe thead th {\n",
       "        text-align: right;\n",
       "    }\n",
       "</style>\n",
       "<table border=\"1\" class=\"dataframe\">\n",
       "  <thead>\n",
       "    <tr style=\"text-align: right;\">\n",
       "      <th></th>\n",
       "      <th>child_mort</th>\n",
       "      <th>exports</th>\n",
       "      <th>health</th>\n",
       "      <th>imports</th>\n",
       "      <th>income</th>\n",
       "      <th>inflation</th>\n",
       "      <th>life_expec</th>\n",
       "      <th>total_fer</th>\n",
       "      <th>gdpp</th>\n",
       "    </tr>\n",
       "  </thead>\n",
       "  <tbody>\n",
       "    <tr>\n",
       "      <th>0</th>\n",
       "      <td>1.519326</td>\n",
       "      <td>-1.465026</td>\n",
       "      <td>0.560239</td>\n",
       "      <td>-0.012828</td>\n",
       "      <td>-0.979797</td>\n",
       "      <td>0.343115</td>\n",
       "      <td>-1.828627</td>\n",
       "      <td>1.917030</td>\n",
       "      <td>-0.825561</td>\n",
       "    </tr>\n",
       "    <tr>\n",
       "      <th>1</th>\n",
       "      <td>-0.656174</td>\n",
       "      <td>-0.503559</td>\n",
       "      <td>0.092995</td>\n",
       "      <td>0.196191</td>\n",
       "      <td>-0.125286</td>\n",
       "      <td>-0.465551</td>\n",
       "      <td>0.895099</td>\n",
       "      <td>-0.938772</td>\n",
       "      <td>-0.328385</td>\n",
       "    </tr>\n",
       "    <tr>\n",
       "      <th>2</th>\n",
       "      <td>-0.339899</td>\n",
       "      <td>0.051955</td>\n",
       "      <td>-0.986655</td>\n",
       "      <td>-0.775465</td>\n",
       "      <td>0.179750</td>\n",
       "      <td>1.431138</td>\n",
       "      <td>0.922200</td>\n",
       "      <td>-0.089565</td>\n",
       "      <td>-0.276376</td>\n",
       "    </tr>\n",
       "    <tr>\n",
       "      <th>3</th>\n",
       "      <td>2.370608</td>\n",
       "      <td>1.328569</td>\n",
       "      <td>-1.585453</td>\n",
       "      <td>-0.125811</td>\n",
       "      <td>-0.539189</td>\n",
       "      <td>2.460348</td>\n",
       "      <td>-1.300143</td>\n",
       "      <td>2.149878</td>\n",
       "      <td>-0.407101</td>\n",
       "    </tr>\n",
       "    <tr>\n",
       "      <th>4</th>\n",
       "      <td>-0.842392</td>\n",
       "      <td>0.431200</td>\n",
       "      <td>-0.142895</td>\n",
       "      <td>0.778055</td>\n",
       "      <td>0.816525</td>\n",
       "      <td>-0.963819</td>\n",
       "      <td>0.962853</td>\n",
       "      <td>-0.610047</td>\n",
       "      <td>0.811593</td>\n",
       "    </tr>\n",
       "  </tbody>\n",
       "</table>\n",
       "</div>"
      ],
      "text/plain": [
       "   child_mort   exports    health   imports    income  inflation  life_expec  \\\n",
       "0    1.519326 -1.465026  0.560239 -0.012828 -0.979797   0.343115   -1.828627   \n",
       "1   -0.656174 -0.503559  0.092995  0.196191 -0.125286  -0.465551    0.895099   \n",
       "2   -0.339899  0.051955 -0.986655 -0.775465  0.179750   1.431138    0.922200   \n",
       "3    2.370608  1.328569 -1.585453 -0.125811 -0.539189   2.460348   -1.300143   \n",
       "4   -0.842392  0.431200 -0.142895  0.778055  0.816525  -0.963819    0.962853   \n",
       "\n",
       "   total_fer      gdpp  \n",
       "0   1.917030 -0.825561  \n",
       "1  -0.938772 -0.328385  \n",
       "2  -0.089565 -0.276376  \n",
       "3   2.149878 -0.407101  \n",
       "4  -0.610047  0.811593  "
      ]
     },
     "execution_count": 19,
     "metadata": {},
     "output_type": "execute_result"
    }
   ],
   "source": [
    "data_new = pd.DataFrame(data_new)\n",
    "data_new.columns = ['child_mort', 'exports', 'health', 'imports', 'income','inflation','life_expec','total_fer','gdpp']\n",
    "data_new.head()"
   ]
  },
  {
   "cell_type": "markdown",
   "id": "a0992cea",
   "metadata": {},
   "source": [
    "### PCA on the data "
   ]
  },
  {
   "cell_type": "code",
   "execution_count": 20,
   "id": "444c62d9",
   "metadata": {},
   "outputs": [],
   "source": [
    "from sklearn.decomposition import PCA\n",
    "pca = PCA().fit(data_new)"
   ]
  },
  {
   "cell_type": "code",
   "execution_count": 21,
   "id": "7d7dfe21",
   "metadata": {},
   "outputs": [
    {
     "data": {
      "text/plain": [
       "array([[-0.43903928,  0.23003049,  0.12597886,  0.12124919,  0.40836786,\n",
       "        -0.19959414,  0.42633215, -0.42146374,  0.3971971 ],\n",
       "       [ 0.06281361,  0.3405897 ,  0.30739824,  0.7298262 , -0.22379393,\n",
       "        -0.38284228, -0.15186146,  0.07793467, -0.16469822],\n",
       "       [ 0.01980308,  0.62207764, -0.61168522,  0.20145887,  0.13617362,\n",
       "         0.41656727, -0.04490783,  0.03646846, -0.0496443 ],\n",
       "       [ 0.32953214,  0.18544375,  0.35523949, -0.05945357,  0.43146995,\n",
       "         0.11184636, -0.28671888,  0.41531936,  0.52336941],\n",
       "       [-0.20834338,  0.00449918,  0.54778543,  0.14347541, -0.07481406,\n",
       "         0.75752643,  0.07532997, -0.11385358, -0.19452002],\n",
       "       [-0.01676991,  0.52759139,  0.24758517, -0.54926048, -0.08446092,\n",
       "        -0.16451906, -0.37681234, -0.36780221, -0.2165974 ],\n",
       "       [-0.17970965, -0.34465859, -0.15723842,  0.26837887,  0.18422533,\n",
       "         0.07887308, -0.71762729, -0.4199121 ,  0.14383576],\n",
       "       [-0.76357355,  0.0339553 , -0.01414534, -0.10777501,  0.0933589 ,\n",
       "        -0.10353465, -0.20980599,  0.5636808 , -0.1509868 ],\n",
       "       [ 0.18784846, -0.10676716,  0.05468492,  0.05115679,  0.72322662,\n",
       "        -0.09850315,  0.06545947, -0.01307924, -0.64069544]])"
      ]
     },
     "execution_count": 21,
     "metadata": {},
     "output_type": "execute_result"
    }
   ],
   "source": [
    "#List of PCA components.It would be the same as the number of variables\n",
    "pca.components_"
   ]
  },
  {
   "cell_type": "code",
   "execution_count": 22,
   "id": "b0babfa9",
   "metadata": {},
   "outputs": [
    {
     "data": {
      "text/plain": [
       "array([0.47060604, 0.16467082, 0.1416832 , 0.08987003, 0.07241635,\n",
       "       0.02461714, 0.01887194, 0.01016112, 0.00710336])"
      ]
     },
     "execution_count": 22,
     "metadata": {},
     "output_type": "execute_result"
    }
   ],
   "source": [
    "#Let's check the variance ratios\n",
    "pca.explained_variance_ratio_"
   ]
  },
  {
   "cell_type": "code",
   "execution_count": 23,
   "id": "31f4ecd0",
   "metadata": {},
   "outputs": [
    {
     "data": {
      "image/png": "[encoded data removed]",
      "text/plain": [
       "<Figure size 432x432 with 1 Axes>"
      ]
     },
     "metadata": {
      "needs_background": "light"
     },
     "output_type": "display_data"
    }
   ],
   "source": [
    "\n",
    "fig = plt.figure(figsize = (6,6))\n",
    "plt.plot(np.cumsum(pca.explained_variance_ratio_))\n",
    "\n",
    "plt.xlabel('Number of Components')\n",
    "plt.ylabel('Cumulative Variance(%)')\n",
    "plt.title('The number of components needed to explain variance')\n",
    "\n",
    "\n",
    "plt.show()"
   ]
  },
  {
   "cell_type": "markdown",
   "id": "303dddea",
   "metadata": {},
   "source": [
    "#### From the graph it is clear that we can use 6 components."
   ]
  },
  {
   "cell_type": "code",
   "execution_count": 24,
   "id": "4a3124cc",
   "metadata": {},
   "outputs": [
    {
     "data": {
      "text/plain": [
       "(128, 6)"
      ]
     },
     "execution_count": 24,
     "metadata": {},
     "output_type": "execute_result"
    }
   ],
   "source": [
    "#doing PCA\n",
    "pca=PCA(n_components = 6)\n",
    "pca.fit(data_new)\n",
    "x_pca = pca.transform(data_new)\n",
    "x_pca.shape"
   ]
  },
  {
   "cell_type": "markdown",
   "id": "902dc405",
   "metadata": {},
   "source": [
    "#### from 10 columns, it reduced to 6 columns"
   ]
  },
  {
   "cell_type": "code",
   "execution_count": 25,
   "id": "c09e9819",
   "metadata": {},
   "outputs": [
    {
     "data": {
      "text/html": [
       "<div>\n",
       "<style scoped>\n",
       "    .dataframe tbody tr th:only-of-type {\n",
       "        vertical-align: middle;\n",
       "    }\n",
       "\n",
       "    .dataframe tbody tr th {\n",
       "        vertical-align: top;\n",
       "    }\n",
       "\n",
       "    .dataframe thead th {\n",
       "        text-align: right;\n",
       "    }\n",
       "</style>\n",
       "<table border=\"1\" class=\"dataframe\">\n",
       "  <thead>\n",
       "    <tr style=\"text-align: right;\">\n",
       "      <th></th>\n",
       "      <th>PC1</th>\n",
       "      <th>PC2</th>\n",
       "      <th>PC3</th>\n",
       "      <th>PC4</th>\n",
       "      <th>PC5</th>\n",
       "      <th>PC6</th>\n",
       "    </tr>\n",
       "  </thead>\n",
       "  <tbody>\n",
       "    <tr>\n",
       "      <th>0</th>\n",
       "      <td>-3.319094</td>\n",
       "      <td>0.410299</td>\n",
       "      <td>-1.024024</td>\n",
       "      <td>0.932800</td>\n",
       "      <td>0.119716</td>\n",
       "      <td>-0.463580</td>\n",
       "    </tr>\n",
       "    <tr>\n",
       "      <th>1</th>\n",
       "      <td>0.896348</td>\n",
       "      <td>0.010309</td>\n",
       "      <td>-0.612730</td>\n",
       "      <td>-1.212767</td>\n",
       "      <td>0.108428</td>\n",
       "      <td>-0.173106</td>\n",
       "    </tr>\n",
       "    <tr>\n",
       "      <th>2</th>\n",
       "      <td>0.051751</td>\n",
       "      <td>-1.562541</td>\n",
       "      <td>1.062569</td>\n",
       "      <td>-0.615400</td>\n",
       "      <td>0.623418</td>\n",
       "      <td>-0.290561</td>\n",
       "    </tr>\n",
       "    <tr>\n",
       "      <th>3</th>\n",
       "      <td>-3.283513</td>\n",
       "      <td>-0.367000</td>\n",
       "      <td>2.926348</td>\n",
       "      <td>1.566965</td>\n",
       "      <td>0.266134</td>\n",
       "      <td>-0.234122</td>\n",
       "    </tr>\n",
       "    <tr>\n",
       "      <th>4</th>\n",
       "      <td>2.061154</td>\n",
       "      <td>0.476694</td>\n",
       "      <td>0.099626</td>\n",
       "      <td>-0.154815</td>\n",
       "      <td>-0.596287</td>\n",
       "      <td>-0.445734</td>\n",
       "    </tr>\n",
       "  </tbody>\n",
       "</table>\n",
       "</div>"
      ],
      "text/plain": [
       "        PC1       PC2       PC3       PC4       PC5       PC6\n",
       "0 -3.319094  0.410299 -1.024024  0.932800  0.119716 -0.463580\n",
       "1  0.896348  0.010309 -0.612730 -1.212767  0.108428 -0.173106\n",
       "2  0.051751 -1.562541  1.062569 -0.615400  0.623418 -0.290561\n",
       "3 -3.283513 -0.367000  2.926348  1.566965  0.266134 -0.234122\n",
       "4  2.061154  0.476694  0.099626 -0.154815 -0.596287 -0.445734"
      ]
     },
     "execution_count": 25,
     "metadata": {},
     "output_type": "execute_result"
    }
   ],
   "source": [
    "\n",
    "x_pca=pd.DataFrame(data = x_pca,columns=['PC1','PC2','PC3','PC4','PC5','PC6'])\n",
    "\n",
    "x_pca.head()"
   ]
  },
  {
   "cell_type": "markdown",
   "id": "de17d3b2",
   "metadata": {},
   "source": [
    "### WCSS"
   ]
  },
  {
   "cell_type": "code",
   "execution_count": 26,
   "id": "17c34a45",
   "metadata": {},
   "outputs": [
    {
     "name": "stdout",
     "output_type": "stream",
     "text": [
      "1110.3708503436158\n",
      "731.4123445232888\n",
      "592.2663356256515\n",
      "503.05570151663704\n",
      "457.9244687539635\n",
      "416.56772403427806\n",
      "378.7371085413902\n",
      "359.25148537664916\n",
      "329.75021793029657\n",
      "297.9360098387443\n"
     ]
    }
   ],
   "source": [
    "from sklearn.cluster import KMeans\n",
    "wcss = []\n",
    "for i in range(1,11):\n",
    "    kmeans = KMeans(n_clusters = i,init = 'k-means++', random_state = 42)\n",
    "    kmeans.fit(x_pca)\n",
    "    wcss.append(kmeans.inertia_)\n",
    "    print(kmeans.inertia_)"
   ]
  },
  {
   "cell_type": "code",
   "execution_count": 27,
   "id": "b1759e87",
   "metadata": {},
   "outputs": [
    {
     "data": {
      "image/png": "[encoded data removed]",
      "text/plain": [
       "<Figure size 432x288 with 1 Axes>"
      ]
     },
     "metadata": {
      "needs_background": "light"
     },
     "output_type": "display_data"
    }
   ],
   "source": [
    "plt.plot(range(1, 11), wcss)\n",
    "plt.title('The Elbow Method')\n",
    "plt.xlabel('Number of clusters')\n",
    "plt.ylabel('WCSS')\n",
    "plt.show()"
   ]
  },
  {
   "cell_type": "markdown",
   "id": "4d898445",
   "metadata": {},
   "source": [
    "### Optimum number of clusters is 4 as per the Elbow Method"
   ]
  },
  {
   "cell_type": "markdown",
   "id": "1889f033",
   "metadata": {},
   "source": [
    "### Applying the model"
   ]
  },
  {
   "cell_type": "code",
   "execution_count": 28,
   "id": "9249e1a4",
   "metadata": {},
   "outputs": [
    {
     "data": {
      "text/plain": [
       "array([2, 3, 1, 2, 0, 1, 1, 1, 0, 0, 1, 0, 3, 3, 2, 3, 1, 3, 3, 1, 3, 2,\n",
       "       2, 3, 2, 3, 0, 1, 1, 2, 2, 2, 3, 2, 0, 0, 0, 1, 1, 1, 3, 2, 0, 3,\n",
       "       1, 2, 3, 2, 0, 3, 1, 2, 2, 3, 0, 1, 1, 1, 1, 0, 1, 3, 1, 2, 3, 3,\n",
       "       2, 0, 3, 2, 0, 0, 3, 2, 2, 3, 3, 2, 2, 3, 3, 3, 3, 2, 1, 3, 1, 0,\n",
       "       2, 3, 3, 1, 1, 0, 0, 1, 1, 2, 3, 0, 2, 3, 0, 0, 3, 2, 0, 0, 1, 3,\n",
       "       2, 3, 2, 2, 3, 2, 3, 3, 1, 3, 2, 3, 1, 1, 3, 3, 2, 2])"
      ]
     },
     "execution_count": 28,
     "metadata": {},
     "output_type": "execute_result"
    }
   ],
   "source": [
    "kmeans = KMeans(n_clusters = 4, init = 'k-means++', random_state = 42)\n",
    "y_kmeans = kmeans.fit_predict(x_pca)\n",
    "y_kmeans"
   ]
  },
  {
   "cell_type": "markdown",
   "id": "5be9e2b1",
   "metadata": {},
   "source": [
    "### Checking the efficiency of the model using evaluation metric"
   ]
  },
  {
   "cell_type": "code",
   "execution_count": 29,
   "id": "59d5cb4d",
   "metadata": {},
   "outputs": [
    {
     "name": "stdout",
     "output_type": "stream",
     "text": [
      "0.2216034150804669\n"
     ]
    }
   ],
   "source": [
    "from sklearn.metrics import silhouette_score\n",
    "silhouette_kmeans = silhouette_score(data_new,y_kmeans)\n",
    "print(silhouette_kmeans)"
   ]
  },
  {
   "cell_type": "code",
   "execution_count": 30,
   "id": "81cf0bf0",
   "metadata": {},
   "outputs": [],
   "source": [
    "data_new['cluster'] = y_kmeans"
   ]
  },
  {
   "cell_type": "code",
   "execution_count": 31,
   "id": "2a8cbecf",
   "metadata": {},
   "outputs": [
    {
     "data": {
      "text/plain": [
       "3    41\n",
       "2    34\n",
       "1    30\n",
       "0    23\n",
       "Name: cluster, dtype: int64"
      ]
     },
     "execution_count": 31,
     "metadata": {},
     "output_type": "execute_result"
    }
   ],
   "source": [
    "data_new['cluster'].value_counts()"
   ]
  },
  {
   "cell_type": "code",
   "execution_count": 32,
   "id": "5fa6f42d",
   "metadata": {},
   "outputs": [
    {
     "data": {
      "text/plain": [
       "Index(['child_mort', 'exports', 'health', 'imports', 'income', 'inflation',\n",
       "       'life_expec', 'total_fer', 'gdpp', 'cluster'],\n",
       "      dtype='object')"
      ]
     },
     "execution_count": 32,
     "metadata": {},
     "output_type": "execute_result"
    }
   ],
   "source": [
    "data_new.columns"
   ]
  },
  {
   "cell_type": "code",
   "execution_count": 33,
   "id": "f51fb529",
   "metadata": {},
   "outputs": [
    {
     "data": {
      "text/html": [
       "<div>\n",
       "<style scoped>\n",
       "    .dataframe tbody tr th:only-of-type {\n",
       "        vertical-align: middle;\n",
       "    }\n",
       "\n",
       "    .dataframe tbody tr th {\n",
       "        vertical-align: top;\n",
       "    }\n",
       "\n",
       "    .dataframe thead th {\n",
       "        text-align: right;\n",
       "    }\n",
       "</style>\n",
       "<table border=\"1\" class=\"dataframe\">\n",
       "  <thead>\n",
       "    <tr style=\"text-align: right;\">\n",
       "      <th></th>\n",
       "      <th>child_mort</th>\n",
       "      <th>exports</th>\n",
       "      <th>health</th>\n",
       "      <th>imports</th>\n",
       "      <th>income</th>\n",
       "      <th>inflation</th>\n",
       "      <th>life_expec</th>\n",
       "      <th>total_fer</th>\n",
       "      <th>gdpp</th>\n",
       "      <th>cluster</th>\n",
       "    </tr>\n",
       "  </thead>\n",
       "  <tbody>\n",
       "    <tr>\n",
       "      <th>0</th>\n",
       "      <td>1.519326</td>\n",
       "      <td>-1.465026</td>\n",
       "      <td>0.560239</td>\n",
       "      <td>-0.012828</td>\n",
       "      <td>-0.979797</td>\n",
       "      <td>0.343115</td>\n",
       "      <td>-1.828627</td>\n",
       "      <td>1.917030</td>\n",
       "      <td>-0.825561</td>\n",
       "      <td>2</td>\n",
       "    </tr>\n",
       "    <tr>\n",
       "      <th>1</th>\n",
       "      <td>-0.656174</td>\n",
       "      <td>-0.503559</td>\n",
       "      <td>0.092995</td>\n",
       "      <td>0.196191</td>\n",
       "      <td>-0.125286</td>\n",
       "      <td>-0.465551</td>\n",
       "      <td>0.895099</td>\n",
       "      <td>-0.938772</td>\n",
       "      <td>-0.328385</td>\n",
       "      <td>3</td>\n",
       "    </tr>\n",
       "    <tr>\n",
       "      <th>2</th>\n",
       "      <td>-0.339899</td>\n",
       "      <td>0.051955</td>\n",
       "      <td>-0.986655</td>\n",
       "      <td>-0.775465</td>\n",
       "      <td>0.179750</td>\n",
       "      <td>1.431138</td>\n",
       "      <td>0.922200</td>\n",
       "      <td>-0.089565</td>\n",
       "      <td>-0.276376</td>\n",
       "      <td>1</td>\n",
       "    </tr>\n",
       "    <tr>\n",
       "      <th>3</th>\n",
       "      <td>2.370608</td>\n",
       "      <td>1.328569</td>\n",
       "      <td>-1.585453</td>\n",
       "      <td>-0.125811</td>\n",
       "      <td>-0.539189</td>\n",
       "      <td>2.460348</td>\n",
       "      <td>-1.300143</td>\n",
       "      <td>2.149878</td>\n",
       "      <td>-0.407101</td>\n",
       "      <td>2</td>\n",
       "    </tr>\n",
       "    <tr>\n",
       "      <th>4</th>\n",
       "      <td>-0.842392</td>\n",
       "      <td>0.431200</td>\n",
       "      <td>-0.142895</td>\n",
       "      <td>0.778055</td>\n",
       "      <td>0.816525</td>\n",
       "      <td>-0.963819</td>\n",
       "      <td>0.962853</td>\n",
       "      <td>-0.610047</td>\n",
       "      <td>0.811593</td>\n",
       "      <td>0</td>\n",
       "    </tr>\n",
       "  </tbody>\n",
       "</table>\n",
       "</div>"
      ],
      "text/plain": [
       "   child_mort   exports    health   imports    income  inflation  life_expec  \\\n",
       "0    1.519326 -1.465026  0.560239 -0.012828 -0.979797   0.343115   -1.828627   \n",
       "1   -0.656174 -0.503559  0.092995  0.196191 -0.125286  -0.465551    0.895099   \n",
       "2   -0.339899  0.051955 -0.986655 -0.775465  0.179750   1.431138    0.922200   \n",
       "3    2.370608  1.328569 -1.585453 -0.125811 -0.539189   2.460348   -1.300143   \n",
       "4   -0.842392  0.431200 -0.142895  0.778055  0.816525  -0.963819    0.962853   \n",
       "\n",
       "   total_fer      gdpp  cluster  \n",
       "0   1.917030 -0.825561        2  \n",
       "1  -0.938772 -0.328385        3  \n",
       "2  -0.089565 -0.276376        1  \n",
       "3   2.149878 -0.407101        2  \n",
       "4  -0.610047  0.811593        0  "
      ]
     },
     "execution_count": 33,
     "metadata": {},
     "output_type": "execute_result"
    }
   ],
   "source": [
    "data_new.head()"
   ]
  },
  {
   "cell_type": "markdown",
   "id": "d50b9068",
   "metadata": {},
   "source": [
    "### Agglomerative Hierarchical Clustering"
   ]
  },
  {
   "cell_type": "code",
   "execution_count": 34,
   "id": "3348ce4d",
   "metadata": {},
   "outputs": [
    {
     "data": {
      "image/png": "[encoded data removed]",
      "text/plain": [
       "<Figure size 432x288 with 1 Axes>"
      ]
     },
     "metadata": {
      "needs_background": "light"
     },
     "output_type": "display_data"
    }
   ],
   "source": [
    "import scipy.cluster.hierarchy as sch\n",
    "dendrogram= sch.dendrogram(sch.linkage(x_pca,method = 'ward'))#creating instance of dendrogram using x with ward method.ward method is used to take the distance between two clusters.\n",
    "plt.title('Dendrograph')\n",
    "plt.xlabel('Countries')\n",
    "\n",
    "plt.ylabel('Euclidean Distance')\n",
    "\n",
    "plt.show()"
   ]
  },
  {
   "cell_type": "markdown",
   "id": "51f26a6d",
   "metadata": {},
   "source": [
    "### Optimum number of clusters is 2"
   ]
  },
  {
   "cell_type": "markdown",
   "id": "056fb9ba",
   "metadata": {},
   "source": [
    "### Fitting Agglomerative Clustering model"
   ]
  },
  {
   "cell_type": "code",
   "execution_count": 35,
   "id": "a007c746",
   "metadata": {},
   "outputs": [],
   "source": [
    "from sklearn.cluster import AgglomerativeClustering\n",
    "hc = AgglomerativeClustering(n_clusters= 2,affinity='euclidean', linkage ='ward')# creating an instance hc for agglomeartive clustering with no of clusters is 5,again taking ecludean distance as ward method.\n",
    "y_hc = hc.fit_predict(x_pca)#fitting it to clustering"
   ]
  },
  {
   "cell_type": "code",
   "execution_count": 36,
   "id": "78e9b93f",
   "metadata": {},
   "outputs": [
    {
     "data": {
      "text/plain": [
       "array([1, 0, 0, 1, 0, 0, 0, 0, 0, 0, 1, 0, 0, 0, 1, 0, 1, 0, 1, 0, 0, 1,\n",
       "       1, 0, 1, 0, 0, 0, 0, 1, 1, 1, 0, 1, 0, 0, 0, 0, 0, 1, 0, 1, 0, 0,\n",
       "       1, 1, 0, 1, 0, 0, 0, 1, 1, 0, 0, 1, 0, 0, 1, 0, 0, 0, 0, 1, 1, 0,\n",
       "       1, 0, 0, 1, 0, 0, 0, 1, 1, 0, 0, 1, 1, 0, 0, 0, 0, 1, 1, 1, 1, 0,\n",
       "       1, 0, 0, 0, 1, 0, 0, 0, 0, 1, 0, 0, 1, 0, 0, 0, 0, 1, 0, 0, 0, 0,\n",
       "       1, 0, 1, 1, 0, 1, 0, 0, 0, 0, 1, 0, 0, 1, 0, 0, 1, 1], dtype=int64)"
      ]
     },
     "execution_count": 36,
     "metadata": {},
     "output_type": "execute_result"
    }
   ],
   "source": [
    "y_hc"
   ]
  },
  {
   "cell_type": "markdown",
   "id": "bf2ca823",
   "metadata": {},
   "source": [
    "### Evaluating the model"
   ]
  },
  {
   "cell_type": "code",
   "execution_count": 37,
   "id": "c4285417",
   "metadata": {},
   "outputs": [
    {
     "name": "stdout",
     "output_type": "stream",
     "text": [
      "0.2941138543659331\n"
     ]
    }
   ],
   "source": [
    "silhouette_hc = silhouette_score(x_pca,y_hc)\n",
    "print(silhouette_hc)"
   ]
  },
  {
   "cell_type": "markdown",
   "id": "3ae184c9",
   "metadata": {},
   "source": [
    "### Comparing Kmeans model and Agglomerative Clustering model"
   ]
  },
  {
   "cell_type": "markdown",
   "id": "0f8b478e",
   "metadata": {},
   "source": [
    "* Model efficiency of Kmeans is 0.309750328518616\n",
    "* Model efficiency of Agglomerative Clustering is 0.2941138543659331\n",
    "* As the efficiency is seen more for KMeans model, we are considering the clusters of KMeans."
   ]
  },
  {
   "cell_type": "markdown",
   "id": "951480a5",
   "metadata": {},
   "source": [
    "### Scatter plot between variables  "
   ]
  },
  {
   "cell_type": "code",
   "execution_count": 38,
   "id": "b7e4fe09",
   "metadata": {},
   "outputs": [
    {
     "data": {
      "text/plain": [
       "<AxesSubplot:xlabel='income', ylabel='gdpp'>"
      ]
     },
     "execution_count": 38,
     "metadata": {},
     "output_type": "execute_result"
    },
    {
     "data": {
      "image/png": "[encoded data removed]",
      "text/plain": [
       "<Figure size 432x288 with 1 Axes>"
      ]
     },
     "metadata": {
      "needs_background": "light"
     },
     "output_type": "display_data"
    }
   ],
   "source": [
    "sns.scatterplot(x='income',y='gdpp',hue='cluster',legend='full',data=data_new,palette=['green','orange','brown','red'])\n"
   ]
  },
  {
   "cell_type": "code",
   "execution_count": 39,
   "id": "4d5372af",
   "metadata": {},
   "outputs": [
    {
     "data": {
      "text/plain": [
       "<AxesSubplot:xlabel='child_mort', ylabel='health'>"
      ]
     },
     "execution_count": 39,
     "metadata": {},
     "output_type": "execute_result"
    },
    {
     "data": {
      "image/png": "[encoded data removed]",
      "text/plain": [
       "<Figure size 432x288 with 1 Axes>"
      ]
     },
     "metadata": {
      "needs_background": "light"
     },
     "output_type": "display_data"
    }
   ],
   "source": [
    "sns.scatterplot(x='child_mort',y='health',hue='cluster',legend='full',data=data_new,palette=['green','orange','brown','red'])"
   ]
  },
  {
   "cell_type": "code",
   "execution_count": 40,
   "id": "732a6e6f",
   "metadata": {},
   "outputs": [
    {
     "data": {
      "text/plain": [
       "<AxesSubplot:xlabel='health', ylabel='income'>"
      ]
     },
     "execution_count": 40,
     "metadata": {},
     "output_type": "execute_result"
    },
    {
     "data": {
      "image/png": "[encoded data removed]",
      "text/plain": [
       "<Figure size 432x288 with 1 Axes>"
      ]
     },
     "metadata": {
      "needs_background": "light"
     },
     "output_type": "display_data"
    }
   ],
   "source": [
    "sns.scatterplot(x='health',y='income',hue='cluster',legend='full',data=data_new,palette=['green','orange','brown','red'])"
   ]
  },
  {
   "cell_type": "code",
   "execution_count": 41,
   "id": "39c3e2fe",
   "metadata": {},
   "outputs": [
    {
     "data": {
      "text/plain": [
       "<AxesSubplot:xlabel='health', ylabel='gdpp'>"
      ]
     },
     "execution_count": 41,
     "metadata": {},
     "output_type": "execute_result"
    },
    {
     "data": {
      "image/png": "[encoded data removed]",
      "text/plain": [
       "<Figure size 432x288 with 1 Axes>"
      ]
     },
     "metadata": {
      "needs_background": "light"
     },
     "output_type": "display_data"
    }
   ],
   "source": [
    "sns.scatterplot(x='health',y='gdpp',hue='cluster',legend='full',data=data_new,palette=['green','orange','brown','red'])"
   ]
  },
  {
   "cell_type": "code",
   "execution_count": 42,
   "id": "5e5e1892",
   "metadata": {
    "scrolled": true
   },
   "outputs": [
    {
     "data": {
      "text/plain": [
       "<AxesSubplot:xlabel='health', ylabel='life_expec'>"
      ]
     },
     "execution_count": 42,
     "metadata": {},
     "output_type": "execute_result"
    },
    {
     "data": {
      "image/png": "[encoded data removed]",
      "text/plain": [
       "<Figure size 432x288 with 1 Axes>"
      ]
     },
     "metadata": {
      "needs_background": "light"
     },
     "output_type": "display_data"
    }
   ],
   "source": [
    "sns.scatterplot(x='health',y='life_expec',hue='cluster',legend='full',data=data_new,palette=['green','orange','brown','red'])\n"
   ]
  },
  {
   "cell_type": "markdown",
   "id": "676c0209",
   "metadata": {},
   "source": [
    "### Analysis of the clusters:"
   ]
  },
  {
   "cell_type": "markdown",
   "id": "f62b5e85",
   "metadata": {},
   "source": [
    "#### Cluster 2\n",
    "    * It has highest child mortality.\n",
    "    * Lowest income.\n",
    "    * Lowest gdpp.\n",
    "    * Comparitvely low life expectancy."
   ]
  },
  {
   "cell_type": "code",
   "execution_count": 43,
   "id": "57fe0931",
   "metadata": {},
   "outputs": [
    {
     "data": {
      "text/html": [
       "<div>\n",
       "<style scoped>\n",
       "    .dataframe tbody tr th:only-of-type {\n",
       "        vertical-align: middle;\n",
       "    }\n",
       "\n",
       "    .dataframe tbody tr th {\n",
       "        vertical-align: top;\n",
       "    }\n",
       "\n",
       "    .dataframe thead th {\n",
       "        text-align: right;\n",
       "    }\n",
       "</style>\n",
       "<table border=\"1\" class=\"dataframe\">\n",
       "  <thead>\n",
       "    <tr style=\"text-align: right;\">\n",
       "      <th></th>\n",
       "      <th>child_mort</th>\n",
       "      <th>exports</th>\n",
       "      <th>health</th>\n",
       "      <th>imports</th>\n",
       "      <th>income</th>\n",
       "      <th>inflation</th>\n",
       "      <th>life_expec</th>\n",
       "      <th>total_fer</th>\n",
       "      <th>gdpp</th>\n",
       "      <th>cluster</th>\n",
       "    </tr>\n",
       "  </thead>\n",
       "  <tbody>\n",
       "    <tr>\n",
       "      <th>0</th>\n",
       "      <td>1.519326</td>\n",
       "      <td>-1.465026</td>\n",
       "      <td>0.560239</td>\n",
       "      <td>-0.012828</td>\n",
       "      <td>-0.979797</td>\n",
       "      <td>0.343115</td>\n",
       "      <td>-1.828627</td>\n",
       "      <td>1.917030</td>\n",
       "      <td>-0.825561</td>\n",
       "      <td>2</td>\n",
       "    </tr>\n",
       "    <tr>\n",
       "      <th>3</th>\n",
       "      <td>2.370608</td>\n",
       "      <td>1.328569</td>\n",
       "      <td>-1.585453</td>\n",
       "      <td>-0.125811</td>\n",
       "      <td>-0.539189</td>\n",
       "      <td>2.460348</td>\n",
       "      <td>-1.300143</td>\n",
       "      <td>2.149878</td>\n",
       "      <td>-0.407101</td>\n",
       "      <td>2</td>\n",
       "    </tr>\n",
       "    <tr>\n",
       "      <th>14</th>\n",
       "      <td>2.134141</td>\n",
       "      <td>-0.727902</td>\n",
       "      <td>-1.018410</td>\n",
       "      <td>-0.447814</td>\n",
       "      <td>-0.958228</td>\n",
       "      <td>-1.054488</td>\n",
       "      <td>-1.069778</td>\n",
       "      <td>1.602002</td>\n",
       "      <td>-0.796746</td>\n",
       "      <td>2</td>\n",
       "    </tr>\n",
       "    <tr>\n",
       "      <th>21</th>\n",
       "      <td>2.281933</td>\n",
       "      <td>-0.973610</td>\n",
       "      <td>0.179186</td>\n",
       "      <td>-0.877150</td>\n",
       "      <td>-0.998284</td>\n",
       "      <td>-0.086540</td>\n",
       "      <td>-1.598262</td>\n",
       "      <td>1.951273</td>\n",
       "      <td>-0.822469</td>\n",
       "      <td>2</td>\n",
       "    </tr>\n",
       "    <tr>\n",
       "      <th>22</th>\n",
       "      <td>1.619824</td>\n",
       "      <td>-1.522714</td>\n",
       "      <td>2.383850</td>\n",
       "      <td>-0.334830</td>\n",
       "      <td>-1.066686</td>\n",
       "      <td>0.810344</td>\n",
       "      <td>-1.625363</td>\n",
       "      <td>2.218362</td>\n",
       "      <td>-0.870823</td>\n",
       "      <td>2</td>\n",
       "    </tr>\n",
       "  </tbody>\n",
       "</table>\n",
       "</div>"
      ],
      "text/plain": [
       "    child_mort   exports    health   imports    income  inflation  life_expec  \\\n",
       "0     1.519326 -1.465026  0.560239 -0.012828 -0.979797   0.343115   -1.828627   \n",
       "3     2.370608  1.328569 -1.585453 -0.125811 -0.539189   2.460348   -1.300143   \n",
       "14    2.134141 -0.727902 -1.018410 -0.447814 -0.958228  -1.054488   -1.069778   \n",
       "21    2.281933 -0.973610  0.179186 -0.877150 -0.998284  -0.086540   -1.598262   \n",
       "22    1.619824 -1.522714  2.383850 -0.334830 -1.066686   0.810344   -1.625363   \n",
       "\n",
       "    total_fer      gdpp  cluster  \n",
       "0    1.917030 -0.825561        2  \n",
       "3    2.149878 -0.407101        2  \n",
       "14   1.602002 -0.796746        2  \n",
       "21   1.951273 -0.822469        2  \n",
       "22   2.218362 -0.870823        2  "
      ]
     },
     "execution_count": 43,
     "metadata": {},
     "output_type": "execute_result"
    }
   ],
   "source": [
    "cluster_second=data_new[data_new['cluster']==2]\n",
    "cluster_second.head()"
   ]
  },
  {
   "cell_type": "code",
   "execution_count": 44,
   "id": "bbf8c5f4",
   "metadata": {},
   "outputs": [
    {
     "data": {
      "text/plain": [
       "0              Afghanistan\n",
       "1                  Albania\n",
       "2                  Algeria\n",
       "3                   Angola\n",
       "4      Antigua and Barbuda\n",
       "              ...         \n",
       "161             Uzbekistan\n",
       "162                Vanuatu\n",
       "164                Vietnam\n",
       "165                  Yemen\n",
       "166                 Zambia\n",
       "Name: country, Length: 128, dtype: object"
      ]
     },
     "execution_count": 44,
     "metadata": {},
     "output_type": "execute_result"
    }
   ],
   "source": [
    "country_data = data['country']\n",
    "country_data"
   ]
  },
  {
   "cell_type": "code",
   "execution_count": 45,
   "id": "bab856f8",
   "metadata": {},
   "outputs": [],
   "source": [
    "data_new = data_new.join(country_data)"
   ]
  },
  {
   "cell_type": "code",
   "execution_count": 46,
   "id": "632ee047",
   "metadata": {},
   "outputs": [
    {
     "data": {
      "text/plain": [
       "Index(['child_mort', 'exports', 'health', 'imports', 'income', 'inflation',\n",
       "       'life_expec', 'total_fer', 'gdpp', 'cluster', 'country'],\n",
       "      dtype='object')"
      ]
     },
     "execution_count": 46,
     "metadata": {},
     "output_type": "execute_result"
    }
   ],
   "source": [
    "data_new.columns"
   ]
  },
  {
   "cell_type": "code",
   "execution_count": 47,
   "id": "e108faf4",
   "metadata": {},
   "outputs": [
    {
     "data": {
      "text/plain": [
       "(34, 11)"
      ]
     },
     "execution_count": 47,
     "metadata": {},
     "output_type": "execute_result"
    }
   ],
   "source": [
    "data_new[data_new.cluster == 2].shape"
   ]
  },
  {
   "cell_type": "code",
   "execution_count": 67,
   "id": "a5a3aae1",
   "metadata": {},
   "outputs": [
    {
     "data": {
      "text/plain": [
       "0             Afghanistan\n",
       "3                  Angola\n",
       "14                Belarus\n",
       "21               Botswana\n",
       "22                 Brazil\n",
       "24               Bulgaria\n",
       "30             Cape Verde\n",
       "33                  Chile\n",
       "41                Croatia\n",
       "45     Dominican Republic\n",
       "47                  Egypt\n",
       "51                Estonia\n",
       "52                   Fiji\n",
       "63                 Guinea\n",
       "69                  India\n",
       "74                 Israel\n",
       "78                 Jordan\n",
       "83        Kyrgyz Republic\n",
       "88                Liberia\n",
       "97                   Mali\n",
       "100             Mauritius\n",
       "105               Morocco\n",
       "115                  Oman\n",
       "120           Philippines\n",
       "126                Rwanda\n",
       "127                 Samoa\n",
       "29                    NaN\n",
       "31                    NaN\n",
       "66                    NaN\n",
       "73                    NaN\n",
       "77                    NaN\n",
       "110                   NaN\n",
       "112                   NaN\n",
       "113                   NaN\n",
       "Name: country, dtype: object"
      ]
     },
     "execution_count": 67,
     "metadata": {},
     "output_type": "execute_result"
    }
   ],
   "source": [
    "\n",
    "country_help=data_new[data_new.cluster == 2].country\n",
    "country_help"
   ]
  },
  {
   "cell_type": "markdown",
   "id": "34900a76",
   "metadata": {},
   "source": [
    "### Following are the countries which are to be considered in need of help based on socio-economic and health factors:\n",
    "    \n",
    "        Afghanistan\n",
    "        Angola\n",
    "        Belarus\n",
    "        Botswana\n",
    "        Brazil\n",
    "        Bulgaria\n",
    "        Cape Verde\n",
    "        Chile\n",
    "        Croatia\n",
    "        Dominican Republic\n",
    "        Egypt\n",
    "        Estonia\n",
    "        Fiji\n",
    "        Guinea\n",
    "        India\n",
    "        Israel\n",
    "        Jordan\n",
    "        Kyrgyz Republic\n",
    "        Liberia\n",
    "        Mali\n",
    "        Mauritius\n",
    "        Morocco\n",
    "        Oman\n",
    "        Philippines\n",
    "        Rwanda\n",
    "        Samoa"
   ]
  },
  {
   "cell_type": "code",
   "execution_count": null,
   "id": "a1cf5fa4",
   "metadata": {},
   "outputs": [],
   "source": []
  },
  {
   "cell_type": "code",
   "execution_count": null,
   "id": "fb650c74",
   "metadata": {},
   "outputs": [],
   "source": []
  }
 ],
 "metadata": {
  "kernelspec": {
   "display_name": "Python 3 (ipykernel)",
   "language": "python",
   "name": "python3"
  },
  "language_info": {
   "codemirror_mode": {
    "name": "ipython",
    "version": 3
   },
   "file_extension": ".py",
   "mimetype": "text/x-python",
   "name": "python",
   "nbconvert_exporter": "python",
   "pygments_lexer": "ipython3",
   "version": "3.9.7"
  }
 },
 "nbformat": 4,
 "nbformat_minor": 5
}
